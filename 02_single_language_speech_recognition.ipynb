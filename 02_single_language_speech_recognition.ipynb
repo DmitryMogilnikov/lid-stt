{
 "cells": [
  {
   "cell_type": "code",
   "execution_count": 1,
   "metadata": {},
   "outputs": [],
   "source": [
    "import os\n",
    "import re\n",
    "import json\n",
    "import random\n",
    "import numpy as np\n",
    "from dataclasses import dataclass\n",
    "from pathlib import Path\n",
    "\n",
    "import torch\n",
    "import torch.nn as nn\n",
    "import torchvision\n",
    "import evaluate\n",
    "from datasets import Dataset, Audio\n",
    "from torchvision.datasets import ImageFolder\n",
    "from transformers import ( Wav2Vec2CTCTokenizer, \n",
    "                           Wav2Vec2FeatureExtractor, \n",
    "                           Wav2Vec2Processor, \n",
    "                           AutoModelForCTC, \n",
    "                           TrainingArguments, \n",
    "                           Trainer )\n",
    "\n",
    "from typing import Iterable, Generator, Any"
   ]
  },
  {
   "cell_type": "code",
   "execution_count": 2,
   "metadata": {},
   "outputs": [],
   "source": [
    "current_dir = os.getcwd()\n",
    "\n",
    "def check_exists_path(path):\n",
    "    if not os.path.exists(path):\n",
    "        os.makedirs(f\"{current_dir}/{path}\")"
   ]
  },
  {
   "attachments": {},
   "cell_type": "markdown",
   "metadata": {},
   "source": [
    "# Модели Speech Recognition для одного языка\n",
    "## Общие функции\n",
    "### Загрузка датасетов"
   ]
  },
  {
   "cell_type": "code",
   "execution_count": 3,
   "metadata": {},
   "outputs": [],
   "source": [
    "non_alphanum_chars_regexp = re.compile(r\"[^\\w\\s]\", flags=re.IGNORECASE)\n",
    "\n",
    "def remove_special_characters(text: str) -> str:\n",
    "    return re.sub(non_alphanum_chars_regexp, '', text).upper()"
   ]
  },
  {
   "cell_type": "code",
   "execution_count": 4,
   "metadata": {},
   "outputs": [],
   "source": [
    "def samples_generator(split_name: str, lang: str) -> Generator[dict[str, Any], None, None]:\n",
    "    base_path = Path(f\"./data/{split_name}_audio/{lang}/\")\n",
    "    file_path_patttern = f\"*.wav\"\n",
    "    for path in base_path.glob(file_path_patttern):\n",
    "        file_path_template = f\"{path.parent.name}/{path.stem}.{{ext}}\"\n",
    "\n",
    "        audio_path = f\"./data/{split_name}_audio/{file_path_template.format(ext='wav')}\"\n",
    "        text_path = f\"./data/{split_name}_transcription/{file_path_template.format(ext='txt')}\"\n",
    "\n",
    "        with open(text_path, \"r\") as f:\n",
    "            transcription = f.read()\n",
    "        transcription = remove_special_characters(transcription)\n",
    "\n",
    "        yield { \"audio\": audio_path, \"transcription\": transcription }\n",
    "\n",
    "def load_dataset(split_name: str, lang: str) -> Dataset:\n",
    "    return Dataset.from_generator(samples_generator, gen_kwargs={\"split_name\": split_name, \"lang\": lang}).cast_column(\"audio\", Audio(sampling_rate=16000))"
   ]
  },
  {
   "attachments": {},
   "cell_type": "markdown",
   "metadata": {},
   "source": [
    "### Предобработка данных"
   ]
  },
  {
   "cell_type": "code",
   "execution_count": null,
   "metadata": {},
   "outputs": [],
   "source": [
    "def chars_generator(datasets: Iterable[Dataset]) -> Generator[str, None, None]:\n",
    "    for dataset in datasets:\n",
    "      for text in dataset[\"transcription\"]:\n",
    "         yield from text\n",
    "\n",
    "def create_vocabulary(datasets: Iterable[Dataset], lang: str):\n",
    "   chars = set(chars_generator(datasets))\n",
    "   vocab = {v: k for k, v in enumerate(sorted(chars))}\n",
    "\n",
    "   vocab[\"[UNK]\"] = len(vocab)\n",
    "   vocab[\"[PAD]\"] = len(vocab)\n",
    "\n",
    "   vocab_path = f\"./models/{lang}\"\n",
    "   check_exists_path(vocab_path)\n",
    "   with open(f'{vocab_path}/vocab.json', 'w') as vocab_file:\n",
    "       json.dump(vocab, vocab_file)"
   ]
  },
  {
   "cell_type": "code",
   "execution_count": null,
   "metadata": {},
   "outputs": [],
   "source": [
    "def create_processor(lang: str) -> Wav2Vec2Processor:\n",
    "    tokenizer = Wav2Vec2CTCTokenizer.from_pretrained(f\"./models/{lang}/\", unk_token=\"[UNK]\", pad_token=\"[PAD]\", word_delimiter_token=\" \")\n",
    "    feature_extractor = Wav2Vec2FeatureExtractor(feature_size=1, sampling_rate=16000, padding_value=0.0, do_normalize=True, return_attention_mask=True)\n",
    "    return Wav2Vec2Processor(feature_extractor=feature_extractor, tokenizer=tokenizer)"
   ]
  },
  {
   "cell_type": "code",
   "execution_count": null,
   "metadata": {},
   "outputs": [],
   "source": [
    "def tokenize_dataset(dataset: Dataset, processor: Wav2Vec2Processor) -> Dataset:\n",
    "    \n",
    "    def prepare_dataset(batch):\n",
    "        audio = batch[\"audio\"]\n",
    "        batch = processor(audio[\"array\"], sampling_rate=audio[\"sampling_rate\"], text=batch[\"transcription\"])\n",
    "        batch[\"input_length\"] = len(batch[\"input_values\"][0])\n",
    "        return batch\n",
    "    \n",
    "    return dataset.map(prepare_dataset, remove_columns=dataset.column_names)"
   ]
  },
  {
   "cell_type": "code",
   "execution_count": null,
   "metadata": {},
   "outputs": [],
   "source": [
    "@dataclass\n",
    "class DataCollatorCTCWithPadding:\n",
    "    processor: AutoProcessor\n",
    "    padding: bool | str = \"longest\"\n",
    "\n",
    "    def __call__(self, features: list[dict[str, list[int] | torch.Tensor]]) -> dict[str, torch.Tensor]:\n",
    "        # split inputs and labels since they have to be of different lengths and need\n",
    "        # different padding methods\n",
    "        input_features = [{\"input_values\": feature[\"input_values\"][0]} for feature in features]\n",
    "        label_features = [{\"input_ids\": feature[\"labels\"]} for feature in features]\n",
    "\n",
    "        batch = self.processor.pad(input_features, padding=self.padding, return_tensors=\"pt\")\n",
    "\n",
    "        labels_batch = self.processor.pad(labels=label_features, padding=self.padding, return_tensors=\"pt\")\n",
    "\n",
    "        # replace padding with -100 to ignore loss correctly\n",
    "        labels = labels_batch[\"input_ids\"].masked_fill(labels_batch.attention_mask.ne(1), -100)\n",
    "\n",
    "        batch[\"labels\"] = labels\n",
    "\n",
    "        return batch"
   ]
  },
  {
   "attachments": {},
   "cell_type": "markdown",
   "metadata": {},
   "source": [
    "### Пайплайн обучения"
   ]
  },
  {
   "cell_type": "code",
   "execution_count": null,
   "metadata": {},
   "outputs": [],
   "source": [
    "wer = evaluate.load(\"wer\")\n",
    "\n",
    "def get_compute_metrics(processor: Wav2Vec2Processor):\n",
    "    def compute_metrics(pred):\n",
    "        pred_logits = pred.predictions\n",
    "        pred_ids = np.argmax(pred_logits, axis=-1)\n",
    "\n",
    "        pred.label_ids[pred.label_ids == -100] = processor.tokenizer.pad_token_id\n",
    "\n",
    "        pred_str = processor.batch_decode(pred_ids)\n",
    "        label_str = processor.batch_decode(pred.label_ids, group_tokens=False)\n",
    "\n",
    "        wer_value = wer.compute(predictions=pred_str, references=label_str)\n",
    "\n",
    "        return {\"wer\": wer_value}\n",
    "    return compute_metrics"
   ]
  },
  {
   "cell_type": "code",
   "execution_count": null,
   "metadata": {},
   "outputs": [],
   "source": [
    "def train(lang: str, num_epochs: int, checkpoint_dir: str | None = None) -> AutoModelForCTC:\n",
    "    train_dataset = load_dataset(\"train\", lang)\n",
    "    test_dataset = load_dataset(\"test\", lang)\n",
    "    validation_dataset = load_dataset(\"valid\", lang)\n",
    "\n",
    "    create_vocabulary([train_dataset, test_dataset, validation_dataset])\n",
    "\n",
    "    processor = create_processor(lang)\n",
    "\n",
    "    train_dataset = tokenize_dataset(train_dataset, processor)\n",
    "    validation_dataset = tokenize_dataset(validation_dataset, processor)\n",
    "\n",
    "    data_collator = DataCollatorCTCWithPadding(processor=processor, padding=True)\n",
    "\n",
    "    compute_metrics = get_compute_metrics(processor)\n",
    "\n",
    "    model = AutoModelForCTC.from_pretrained(\n",
    "        \"facebook/wav2vec2-base\",\n",
    "        ctc_loss_reduction=\"mean\",\n",
    "        pad_token_id=processor.tokenizer.pad_token_id,\n",
    "    )\n",
    "    \n",
    "    training_args = TrainingArguments(\n",
    "        output_dir=f\"./models/{lang}/\",\n",
    "        remove_unused_columns=False,\n",
    "        per_device_train_batch_size=1,\n",
    "        gradient_accumulation_steps=4,\n",
    "        num_train_epochs=num_epochs,\n",
    "        learning_rate=1e-5,\n",
    "        warmup_steps=500,\n",
    "        gradient_checkpointing=True,\n",
    "        fp16=True,\n",
    "        group_by_length=True,\n",
    "        evaluation_strategy=\"steps\",\n",
    "        per_device_eval_batch_size=8,\n",
    "        save_steps=1000,\n",
    "        eval_steps=200,\n",
    "        logging_steps=200,\n",
    "        load_best_model_at_end=True,\n",
    "        metric_for_best_model=\"wer\",\n",
    "        greater_is_better=False\n",
    "    )\n",
    "    \n",
    "    trainer = Trainer(\n",
    "        model=model,\n",
    "        args=training_args,\n",
    "        train_dataset=train_dataset,\n",
    "        eval_dataset=validation_dataset,\n",
    "        tokenizer=processor,\n",
    "        data_collator=data_collator,\n",
    "        compute_metrics=compute_metrics,\n",
    "    )\n",
    "\n",
    "    if checkpoint_dir:\n",
    "        trainer.train(checkpoint_dir)\n",
    "    else:\n",
    "        trainer.train()\n",
    "\n",
    "    return processor, model"
   ]
  },
  {
   "attachments": {},
   "cell_type": "markdown",
   "metadata": {},
   "source": [
    "## Дообучение моделей"
   ]
  },
  {
   "cell_type": "code",
   "execution_count": 8,
   "metadata": {},
   "outputs": [],
   "source": [
    "en_processor, en_model = train(lang=\"en\", num_epochs=90)"
   ]
  },
  {
   "cell_type": "code",
   "execution_count": 9,
   "metadata": {},
   "outputs": [],
   "source": [
    "ru_processor, ru_model = train(lang=\"ru\", num_epochs=90)"
   ]
  },
  {
   "cell_type": "code",
   "execution_count": 10,
   "metadata": {},
   "outputs": [],
   "source": [
    "de_processor, de_model = train(lang=\"ru\", num_epochs=90)"
   ]
  },
  {
   "attachments": {},
   "cell_type": "markdown",
   "metadata": {},
   "source": [
    "## Проверка результатов"
   ]
  },
  {
   "cell_type": "code",
   "execution_count": null,
   "metadata": {},
   "outputs": [],
   "source": [
    "from transformers import AutoProcessor\n",
    "\n",
    "en_processor = AutoProcessor.from_pretrained(\"facebook/wav2vec2-base\")\n",
    "en_model = AutoModelForCTC.from_pretrained(\"./models/en/checkpoint-10000\")"
   ]
  },
  {
   "cell_type": "code",
   "execution_count": null,
   "metadata": {},
   "outputs": [],
   "source": [
    "class CNNModel(nn.Module):\n",
    "\n",
    "    def __init__(self):\n",
    "        super(CNNModel, self).__init__()\n",
    "        self.layer1 = nn.Sequential(\n",
    "            nn.Conv2d(3, 32, kernel_size=5, stride=1, padding = 2),\n",
    "            nn.BatchNorm2d(32),\n",
    "            nn.ReLU(),\n",
    "            nn.MaxPool2d(kernel_size=2, stride=2),\n",
    "        )\n",
    "\n",
    "        self.layer2 = nn.Sequential(\n",
    "            nn.Conv2d(32, 64, kernel_size=5, stride=1, padding=2),\n",
    "            nn.BatchNorm2d(64),\n",
    "            nn.ReLU(),\n",
    "            nn.MaxPool2d(kernel_size=2, stride=2),\n",
    "        )\n",
    "\n",
    "        self.layer3 = nn.Sequential(\n",
    "            nn.Conv2d(64, 128, kernel_size=5, stride=1, padding=2),\n",
    "            nn.BatchNorm2d(128),\n",
    "            nn.ReLU(),\n",
    "            nn.MaxPool2d(kernel_size=2, stride=2),\n",
    "        )\n",
    "\n",
    "        self.relu = nn.ReLU()\n",
    "        self.softmax = nn.Softmax()\n",
    "        self.fc1 = nn.Linear(18432, 1000)\n",
    "        self.fc2 = nn.Linear(1000, 3)\n",
    "\n",
    "    def forward(self, x):\n",
    "        x = self.layer1(x)\n",
    "        x = self.layer2(x)\n",
    "        x = self.layer3(x)\n",
    "        x = x.reshape(x.size(0), -1)\n",
    "        x = self.fc1(x)\n",
    "        x = self.fc2(x)\n",
    "        return x"
   ]
  },
  {
   "cell_type": "code",
   "execution_count": null,
   "metadata": {},
   "outputs": [],
   "source": [
    "def load_image_dataset() -> ImageFolder:\n",
    "    data_path = \"./data/test_spectrogram\"\n",
    "    return ImageFolder(root=data_path, transform=torchvision.transforms.ToTensor())"
   ]
  },
  {
   "cell_type": "code",
   "execution_count": null,
   "metadata": {},
   "outputs": [],
   "source": [
    "def load_test_datasets() -> dict[str, Dataset]:\n",
    "    en_dataset = load_dataset(\"test\", \"en\")\n",
    "    en_dataset = tokenize_dataset(en_dataset, en_processor)\n",
    "    ru_dataset = load_dataset(\"test\", \"ru\")\n",
    "    ru_dataset = tokenize_dataset(ru_dataset, ru_processor)\n",
    "    de_dataset = load_dataset(\"test\", \"de\")\n",
    "    de_dataset = tokenize_dataset(de_dataset, de_processor)\n",
    "    return {\n",
    "        \"en\": en_dataset,\n",
    "        \"ru\": ru_dataset,\n",
    "        \"de\": de_dataset\n",
    "    }"
   ]
  },
  {
   "cell_type": "code",
   "execution_count": null,
   "metadata": {},
   "outputs": [],
   "source": [
    "lid_model_path = \"./models/lid/12-07-2023T20-47-58/CNNModel-date(12-07-2023T20-51-36)-accuracy(79.53).pth\""
   ]
  },
  {
   "cell_type": "code",
   "execution_count": null,
   "metadata": {},
   "outputs": [],
   "source": [
    "device = torch.device(\"cuda\" if torch.cuda.is_available() else \"cpu\")\n",
    "print(f\"Device: {device}.\")"
   ]
  },
  {
   "cell_type": "code",
   "execution_count": null,
   "metadata": {},
   "outputs": [],
   "source": [
    "lid_model = CNNModel()\n",
    "lid_model.load_state_dict(torch.load(lid_model_path, map_location=device))"
   ]
  },
  {
   "cell_type": "code",
   "execution_count": null,
   "metadata": {},
   "outputs": [],
   "source": [
    "models = {\n",
    "    \"en\": (en_model, en_processor),\n",
    "    \"ru\": (ru_model, ru_processor),\n",
    "    \"de\": (de_model, de_processor)\n",
    "}\n",
    "\n",
    "image_dataset = load_image_dataset()\n",
    "datasets = load_test_datasets()"
   ]
  },
  {
   "cell_type": "code",
   "execution_count": 14,
   "metadata": {},
   "outputs": [],
   "source": [
    "def get_index_by_image_index(image_index: int, true_class: str) -> int:\n",
    "    if true_class in [\"en\", \"ru\"]:\n",
    "        image_index -= len(datasets[\"de\"])\n",
    "    if true_class == \"ru\":\n",
    "        image_index -= len(datasets[\"en\"])\n",
    "    return image_index\n",
    "\n",
    "def print_prediction():\n",
    "    with torch.no_grad():\n",
    "        rand_int = random.randint(0, len(image_dataset) - 1)\n",
    "        image, true_class_idx = image_dataset[rand_int]\n",
    "\n",
    "        image = image.to(device)\n",
    "        predicted_class_idx = lid_model.to(device)(image)\n",
    "\n",
    "        true_class = image_dataset.classes[true_class_idx]\n",
    "        predicted_class = image_dataset.classes[predicted_class_idx]\n",
    "        print(f\"Predicted class: {predicted_class}, true class: {true_class}.\")\n",
    "\n",
    "        model, processor = models[predicted_class]\n",
    "        dataset = datasets[predicted_class]\n",
    "    \n",
    "        index = get_index_by_image_index(rand_int)\n",
    "        entry = dataset[index]\n",
    "\n",
    "        input_dict = processor(entry[\"input_values\"], sampling_rate=16000, return_tensors=\"pt\", padding=True)\n",
    "        input_dict = {k: v.to(device) for k, v in input_dict.items()}\n",
    "\n",
    "        logits = model.to(device)(**input_dict).logits\n",
    "\n",
    "        pred_ids = torch.argmax(logits, dim=-1)\n",
    "        transcription = processor.batch_decode(pred_ids)\n",
    "\n",
    "        print(f\"Prediction: {transcription}\")\n",
    "        ref = processor.decode(dataset[rand_int][\"labels\"])\n",
    "        print(f\"Reference: {ref}\")"
   ]
  },
  {
   "cell_type": "code",
   "execution_count": null,
   "metadata": {},
   "outputs": [],
   "source": [
    "for i in range(5):\n",
    "    print_prediction()\n",
    "    print()"
   ]
  }
 ],
 "metadata": {
  "kernelspec": {
   "display_name": ".venv",
   "language": "python",
   "name": "python3"
  },
  "language_info": {
   "codemirror_mode": {
    "name": "ipython",
    "version": 3
   },
   "file_extension": ".py",
   "mimetype": "text/x-python",
   "name": "python",
   "nbconvert_exporter": "python",
   "pygments_lexer": "ipython3",
   "version": "3.11.4"
  },
  "orig_nbformat": 4
 },
 "nbformat": 4,
 "nbformat_minor": 2
}
