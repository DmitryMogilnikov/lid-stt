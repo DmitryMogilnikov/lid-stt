{
 "cells": [
  {
   "cell_type": "code",
   "execution_count": 3,
   "metadata": {},
   "outputs": [],
   "source": [
    "import os\n",
    "import librosa\n",
    "import soundfile as sf\n",
    "import matplotlib.pyplot as plt\n",
    "from datasets import load_dataset, DatasetDict\n",
    "from tqdm.notebook import tqdm"
   ]
  },
  {
   "attachments": {},
   "cell_type": "markdown",
   "metadata": {},
   "source": [
    "# Подготовка данных для обучения\n",
    "Выгружаем из датасета данные по трем языкам, которые будем идентефицировать (Русский, Английский, Немецкий)"
   ]
  },
  {
   "cell_type": "code",
   "execution_count": 4,
   "metadata": {},
   "outputs": [],
   "source": [
    "lang_dict = {\n",
    "    \"ru\": \"ru-RU\",\n",
    "    \"en\": \"en-US\",\n",
    "    \"de\": \"de-DE\",\n",
    "}\n",
    "\n",
    "def get_ds_splits(lang: str = \"ru\"):\n",
    "    ds = load_dataset(\"PolyAI/minds14\", lang_dict[lang])\n",
    "    train_test_ds = ds[\"train\"].train_test_split(test_size=0.2, seed=42, shuffle=True)\n",
    "    test_val_ds = train_test_ds[\"test\"].train_test_split(test_size=0.5, seed=42, shuffle=True)\n",
    "\n",
    "    return DatasetDict({\n",
    "    'train': train_test_ds['train'],\n",
    "    'valid': test_val_ds['train'],\n",
    "    'test': test_val_ds['test']\n",
    "    })"
   ]
  },
  {
   "cell_type": "code",
   "execution_count": 5,
   "metadata": {},
   "outputs": [
    {
     "data": {
      "application/vnd.jupyter.widget-view+json": {
       "model_id": "c7a524fcb48a40d09cf8adcdee031fb1",
       "version_major": 2,
       "version_minor": 0
      },
      "text/plain": [
       "Downloading builder script:   0%|          | 0.00/5.95k [00:00<?, ?B/s]"
      ]
     },
     "metadata": {},
     "output_type": "display_data"
    },
    {
     "data": {
      "application/vnd.jupyter.widget-view+json": {
       "model_id": "23f2e9dd7ac642f9ae630878081e4133",
       "version_major": 2,
       "version_minor": 0
      },
      "text/plain": [
       "Downloading readme:   0%|          | 0.00/5.29k [00:00<?, ?B/s]"
      ]
     },
     "metadata": {},
     "output_type": "display_data"
    },
    {
     "data": {
      "application/vnd.jupyter.widget-view+json": {
       "model_id": "c01872b646894f2d8d0daa2b7c4c999e",
       "version_major": 2,
       "version_minor": 0
      },
      "text/plain": [
       "Downloading data:   0%|          | 0.00/471M [00:00<?, ?B/s]"
      ]
     },
     "metadata": {},
     "output_type": "display_data"
    },
    {
     "data": {
      "application/vnd.jupyter.widget-view+json": {
       "model_id": "f6b0d1ff0a084aec95162ac11db3cf98",
       "version_major": 2,
       "version_minor": 0
      },
      "text/plain": [
       "Generating train split: 0 examples [00:00, ? examples/s]"
      ]
     },
     "metadata": {},
     "output_type": "display_data"
    },
    {
     "data": {
      "application/vnd.jupyter.widget-view+json": {
       "model_id": "e5293f0faa73410590925fd871795e49",
       "version_major": 2,
       "version_minor": 0
      },
      "text/plain": [
       "Generating train split: 0 examples [00:00, ? examples/s]"
      ]
     },
     "metadata": {},
     "output_type": "display_data"
    },
    {
     "data": {
      "application/vnd.jupyter.widget-view+json": {
       "model_id": "37dcecf8a20443f39e300bd3d12febb4",
       "version_major": 2,
       "version_minor": 0
      },
      "text/plain": [
       "Generating train split: 0 examples [00:00, ? examples/s]"
      ]
     },
     "metadata": {},
     "output_type": "display_data"
    }
   ],
   "source": [
    "ds_splits_ru = get_ds_splits(lang=\"ru\")\n",
    "ds_splits_en = get_ds_splits(lang=\"en\")\n",
    "ds_splits_de = get_ds_splits(lang=\"de\")"
   ]
  },
  {
   "attachments": {},
   "cell_type": "markdown",
   "metadata": {},
   "source": [
    "Функции для предобработки данных\n",
    "- Сохранение аудиозаписи \n",
    "- Сохранение транскрипции по аудиозаписи\n",
    "- Построение и сохранение спектрограммы"
   ]
  },
  {
   "cell_type": "code",
   "execution_count": 6,
   "metadata": {},
   "outputs": [],
   "source": [
    "current_dir = os.getcwd()\n",
    "\n",
    "def check_exists_path(path):\n",
    "    if not os.path.exists(path):\n",
    "        os.makedirs(f\"{current_dir}/{path}\")"
   ]
  },
  {
   "cell_type": "code",
   "execution_count": 7,
   "metadata": {},
   "outputs": [],
   "source": [
    "def save_audio(y, sr, path, name):\n",
    "    check_exists_path(path=path)\n",
    "    sf.write(file=f\"{path}/{name}.wav\", data=y, samplerate=sr, subtype=\"PCM_16\")"
   ]
  },
  {
   "cell_type": "code",
   "execution_count": 8,
   "metadata": {},
   "outputs": [],
   "source": [
    "def save_transcription(transcription, path, name):\n",
    "    check_exists_path(path=path)\n",
    "    with open(f\"{path}/{name}.txt\", \"w\", encoding=\"utf-8\") as file:\n",
    "            file.write(transcription)"
   ]
  },
  {
   "cell_type": "code",
   "execution_count": 9,
   "metadata": {},
   "outputs": [],
   "source": [
    "def save_spectrogram_image(y, sr, path, name):\n",
    "    check_exists_path(path=path)\n",
    "    S = librosa.feature.melspectrogram(y=y, sr=sr, n_mels=128)\n",
    "    log_S = librosa.amplitude_to_db(S)\n",
    "    plt.figure(figsize=(1,1))\n",
    "    librosa.display.specshow(log_S, sr=sr)\n",
    "    plt.savefig(f\"{path}/{name}.png\")\n",
    "    plt.close()"
   ]
  },
  {
   "cell_type": "code",
   "execution_count": 10,
   "metadata": {},
   "outputs": [],
   "source": [
    "def save_data(ds, split: str = \"train\", lang: str = \"ru\"):\n",
    "    audio_path = f\"data/{split}_audio/{lang}\"\n",
    "    transcription_path = f\"data/{split}_transcription/{lang}\"\n",
    "    spectrogram_path = f\"data/{split}_spectrogram/{lang}\"\n",
    "\n",
    "\n",
    "    for idx, item in tqdm(enumerate(ds[f\"{split}\"])):\n",
    "        y = item[\"audio\"][\"array\"]\n",
    "        sr = item[\"audio\"][\"sampling_rate\"]\n",
    "        transcription = item[\"transcription\"]\n",
    "        name = f\"{lang}_{split}_{idx}\"\n",
    "\n",
    "        # Сохраняем аудио\n",
    "        save_audio(y=y, sr=sr, path=audio_path, name=name)\n",
    "\n",
    "        # Сохраняем транскрипцию\n",
    "        save_transcription(transcription=transcription, path=transcription_path, name=name)\n",
    "\n",
    "        # Сохраняем спектрограмму\n",
    "        save_spectrogram_image(y=y, sr=sr, path=spectrogram_path, name=name)"
   ]
  },
  {
   "cell_type": "code",
   "execution_count": 11,
   "metadata": {},
   "outputs": [
    {
     "data": {
      "application/vnd.jupyter.widget-view+json": {
       "model_id": "55cf1d7a442d4a0d91b74806f119126e",
       "version_major": 2,
       "version_minor": 0
      },
      "text/plain": [
       "0it [00:00, ?it/s]"
      ]
     },
     "metadata": {},
     "output_type": "display_data"
    },
    {
     "data": {
      "application/vnd.jupyter.widget-view+json": {
       "model_id": "8fff26aa251e4f20a245a0c0bc784e8c",
       "version_major": 2,
       "version_minor": 0
      },
      "text/plain": [
       "0it [00:00, ?it/s]"
      ]
     },
     "metadata": {},
     "output_type": "display_data"
    },
    {
     "data": {
      "application/vnd.jupyter.widget-view+json": {
       "model_id": "bb660a3d9bea4e3d82f70bb2b0eb8f48",
       "version_major": 2,
       "version_minor": 0
      },
      "text/plain": [
       "0it [00:00, ?it/s]"
      ]
     },
     "metadata": {},
     "output_type": "display_data"
    }
   ],
   "source": [
    "save_data(ds=ds_splits_ru, split=\"train\", lang=\"ru\")\n",
    "save_data(ds=ds_splits_ru, split=\"valid\", lang=\"ru\")\n",
    "save_data(ds=ds_splits_ru, split=\"test\", lang=\"ru\")"
   ]
  },
  {
   "cell_type": "code",
   "execution_count": 12,
   "metadata": {},
   "outputs": [
    {
     "data": {
      "application/vnd.jupyter.widget-view+json": {
       "model_id": "96bd9eead91f4d2f857ce28f7105a450",
       "version_major": 2,
       "version_minor": 0
      },
      "text/plain": [
       "0it [00:00, ?it/s]"
      ]
     },
     "metadata": {},
     "output_type": "display_data"
    },
    {
     "data": {
      "application/vnd.jupyter.widget-view+json": {
       "model_id": "48fc6eac84aa4c9e92e8e6ecb86795a3",
       "version_major": 2,
       "version_minor": 0
      },
      "text/plain": [
       "0it [00:00, ?it/s]"
      ]
     },
     "metadata": {},
     "output_type": "display_data"
    },
    {
     "data": {
      "application/vnd.jupyter.widget-view+json": {
       "model_id": "34da7d8766074014987a9c57cac93a38",
       "version_major": 2,
       "version_minor": 0
      },
      "text/plain": [
       "0it [00:00, ?it/s]"
      ]
     },
     "metadata": {},
     "output_type": "display_data"
    }
   ],
   "source": [
    "save_data(ds=ds_splits_en, split=\"train\", lang=\"en\")\n",
    "save_data(ds=ds_splits_en, split=\"valid\", lang=\"en\")\n",
    "save_data(ds=ds_splits_en, split=\"test\", lang=\"en\")"
   ]
  },
  {
   "cell_type": "code",
   "execution_count": 13,
   "metadata": {},
   "outputs": [
    {
     "data": {
      "application/vnd.jupyter.widget-view+json": {
       "model_id": "46ec37b199cc41628ca9c4371fdc65a6",
       "version_major": 2,
       "version_minor": 0
      },
      "text/plain": [
       "0it [00:00, ?it/s]"
      ]
     },
     "metadata": {},
     "output_type": "display_data"
    },
    {
     "data": {
      "application/vnd.jupyter.widget-view+json": {
       "model_id": "ed21428507ba4633b0188eec54ef2f09",
       "version_major": 2,
       "version_minor": 0
      },
      "text/plain": [
       "0it [00:00, ?it/s]"
      ]
     },
     "metadata": {},
     "output_type": "display_data"
    },
    {
     "data": {
      "application/vnd.jupyter.widget-view+json": {
       "model_id": "d17ac375101042b7828741d22f188980",
       "version_major": 2,
       "version_minor": 0
      },
      "text/plain": [
       "0it [00:00, ?it/s]"
      ]
     },
     "metadata": {},
     "output_type": "display_data"
    }
   ],
   "source": [
    "save_data(ds=ds_splits_de, split=\"train\", lang=\"de\")\n",
    "save_data(ds=ds_splits_de, split=\"valid\", lang=\"de\")\n",
    "save_data(ds=ds_splits_de, split=\"test\", lang=\"de\")"
   ]
  }
 ],
 "metadata": {
  "kernelspec": {
   "display_name": ".venv",
   "language": "python",
   "name": "python3"
  },
  "language_info": {
   "codemirror_mode": {
    "name": "ipython",
    "version": 3
   },
   "file_extension": ".py",
   "mimetype": "text/x-python",
   "name": "python",
   "nbconvert_exporter": "python",
   "pygments_lexer": "ipython3",
   "version": "3.11.4"
  },
  "orig_nbformat": 4
 },
 "nbformat": 4,
 "nbformat_minor": 2
}
