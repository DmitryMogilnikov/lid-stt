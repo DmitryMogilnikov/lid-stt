{
 "cells": [
  {
   "cell_type": "code",
   "execution_count": 1,
   "metadata": {},
   "outputs": [],
   "source": [
    "import os\n",
    "import time\n",
    "import matplotlib.pyplot as plt\n",
    "\n",
    "import torch\n",
    "import torch.nn as nn\n",
    "import torchvision"
   ]
  },
  {
   "cell_type": "code",
   "execution_count": 2,
   "metadata": {},
   "outputs": [],
   "source": [
    "current_dir = os.getcwd()\n",
    "\n",
    "def check_exists_path(path):\n",
    "    if not os.path.exists(path):\n",
    "        os.makedirs(f\"{current_dir}/{path}\")"
   ]
  },
  {
   "attachments": {},
   "cell_type": "markdown",
   "metadata": {},
   "source": [
    "# Обучение модели Language Identification"
   ]
  },
  {
   "cell_type": "code",
   "execution_count": 39,
   "metadata": {},
   "outputs": [],
   "source": [
    "def load_dataset(split: str = \"train\"):\n",
    "    data_path = f\"data/{split}_spectrogram\"\n",
    "    dataset = torchvision.datasets.ImageFolder(root=data_path, transform=torchvision.transforms.ToTensor())\n",
    "    loader = torch.utils.data.DataLoader(dataset, batch_size=16, num_workers=0, shuffle=True)\n",
    "    return loader, dataset\n",
    "\n",
    "train_loader, _ = load_dataset(split=\"train\")\n",
    "valid_loader, _ = load_dataset(split=\"valid\")\n",
    "test_loader, _ = load_dataset(split=\"test\")"
   ]
  },
  {
   "cell_type": "code",
   "execution_count": 40,
   "metadata": {},
   "outputs": [],
   "source": [
    "class CNNModel(nn.Module):\n",
    "\n",
    "    def __init__(self):\n",
    "        super(CNNModel, self).__init__()\n",
    "        self.layer1 = nn.Sequential(\n",
    "            nn.Conv2d(3, 32, kernel_size=5, stride=1, padding = 2),\n",
    "            nn.BatchNorm2d(32),\n",
    "            nn.ReLU(),\n",
    "            nn.MaxPool2d(kernel_size=2, stride=2),\n",
    "        )\n",
    "\n",
    "        self.layer2 = nn.Sequential(\n",
    "            nn.Conv2d(32, 64, kernel_size=5, stride=1, padding=2),\n",
    "            nn.BatchNorm2d(64),\n",
    "            nn.ReLU(),\n",
    "            nn.MaxPool2d(kernel_size=2, stride=2),\n",
    "        )\n",
    "\n",
    "        self.layer3 = nn.Sequential(\n",
    "            nn.Conv2d(64, 128, kernel_size=5, stride=1, padding=2),\n",
    "            nn.BatchNorm2d(128),\n",
    "            nn.ReLU(),\n",
    "            nn.MaxPool2d(kernel_size=2, stride=2),\n",
    "        )\n",
    "\n",
    "        self.relu = nn.ReLU()\n",
    "        self.softmax = nn.Softmax()\n",
    "        self.fc1 = nn.Linear(18432, 1000)\n",
    "        self.fc2 = nn.Linear(1000, 3)\n",
    "\n",
    "    def forward(self, x):\n",
    "        x = self.layer1(x)\n",
    "        x = self.layer2(x)\n",
    "        x = self.layer3(x)\n",
    "        x = x.reshape(x.size(0), -1)\n",
    "        x = self.fc1(x)\n",
    "        x = self.fc2(x)\n",
    "        return x"
   ]
  },
  {
   "cell_type": "code",
   "execution_count": 43,
   "metadata": {},
   "outputs": [],
   "source": [
    "device = torch.device(\"cuda\" if torch.cuda.is_available() else \"cpu\")\n",
    "print(f\"Device: {device}.\")\n",
    "\n",
    "model = CNNModel().to(device)\n",
    "loss = nn.CrossEntropyLoss().to(device)\n",
    "optimizer = torch.optim.Adam(model.parameters(), lr=0.00001)\n",
    "epochs_count = 30\n",
    "count_batches = len(train_loader)\n",
    "\n",
    "train_loss_step_history = []\n",
    "train_accuracy_step_history = []\n",
    "\n",
    "train_loss_epoch_history = []\n",
    "train_accuracy_epoch_history = []\n",
    "\n",
    "valid_loss_epoch_history = []\n",
    "valid_accuracy_epoch_history = []"
   ]
  },
  {
   "cell_type": "code",
   "execution_count": 44,
   "metadata": {},
   "outputs": [
    {
     "name": "stdout",
     "output_type": "stream",
     "text": [
      "Start time: 12-07-2023T02-08-32.\n",
      "Saved the updated model\n",
      "Epoch [1/30], Train loss: 0.1011, Train accuracy: 66.67%, Valid loss: 0.0126, Valid accuracy: 48.54%\n",
      "Saved the updated model\n",
      "Epoch [2/30], Train loss: 0.1565, Train accuracy: 22.22%, Valid loss: 0.0104, Valid accuracy: 61.40%\n",
      "Epoch [3/30], Train loss: 0.0671, Train accuracy: 88.89%, Valid loss: 0.0073, Valid accuracy: 53.80%\n",
      "Saved the updated model\n",
      "Epoch [4/30], Train loss: 0.0894, Train accuracy: 44.44%, Valid loss: 0.0095, Valid accuracy: 64.91%\n",
      "Epoch [5/30], Train loss: 0.0583, Train accuracy: 77.78%, Valid loss: 0.0079, Valid accuracy: 59.06%\n",
      "Saved the updated model\n",
      "Epoch [6/30], Train loss: 0.0422, Train accuracy: 88.89%, Valid loss: 0.0069, Valid accuracy: 72.51%\n",
      "Saved the updated model\n",
      "Epoch [7/30], Train loss: 0.0307, Train accuracy: 100.00%, Valid loss: 0.0066, Valid accuracy: 73.68%\n",
      "Epoch [8/30], Train loss: 0.0639, Train accuracy: 77.78%, Valid loss: 0.0080, Valid accuracy: 72.51%\n",
      "Epoch [9/30], Train loss: 0.0289, Train accuracy: 100.00%, Valid loss: 0.0120, Valid accuracy: 60.82%\n",
      "Epoch [10/30], Train loss: 0.0498, Train accuracy: 77.78%, Valid loss: 0.0097, Valid accuracy: 71.35%\n",
      "Epoch [11/30], Train loss: 0.0577, Train accuracy: 88.89%, Valid loss: 0.0070, Valid accuracy: 71.93%\n",
      "Epoch [12/30], Train loss: 0.0209, Train accuracy: 100.00%, Valid loss: 0.0067, Valid accuracy: 71.93%\n",
      "Epoch [13/30], Train loss: 0.0289, Train accuracy: 100.00%, Valid loss: 0.0080, Valid accuracy: 73.10%\n",
      "Epoch [14/30], Train loss: 0.0480, Train accuracy: 88.89%, Valid loss: 0.0074, Valid accuracy: 70.76%\n",
      "Epoch [15/30], Train loss: 0.0132, Train accuracy: 100.00%, Valid loss: 0.0114, Valid accuracy: 73.10%\n",
      "Epoch [16/30], Train loss: 0.0171, Train accuracy: 100.00%, Valid loss: 0.0099, Valid accuracy: 70.76%\n",
      "Saved the updated model\n",
      "Epoch [17/30], Train loss: 0.0169, Train accuracy: 100.00%, Valid loss: 0.0075, Valid accuracy: 76.61%\n",
      "Epoch [18/30], Train loss: 0.0271, Train accuracy: 100.00%, Valid loss: 0.0108, Valid accuracy: 73.68%\n",
      "Epoch [19/30], Train loss: 0.0169, Train accuracy: 100.00%, Valid loss: 0.0119, Valid accuracy: 69.59%\n",
      "Epoch [20/30], Train loss: 0.0113, Train accuracy: 100.00%, Valid loss: 0.0063, Valid accuracy: 73.10%\n",
      "Epoch [21/30], Train loss: 0.0205, Train accuracy: 88.89%, Valid loss: 0.0090, Valid accuracy: 73.68%\n",
      "Epoch [22/30], Train loss: 0.0127, Train accuracy: 100.00%, Valid loss: 0.0093, Valid accuracy: 75.44%\n",
      "Epoch [23/30], Train loss: 0.0053, Train accuracy: 100.00%, Valid loss: 0.0074, Valid accuracy: 74.85%\n",
      "Saved the updated model\n",
      "Epoch [24/30], Train loss: 0.0081, Train accuracy: 100.00%, Valid loss: 0.0091, Valid accuracy: 77.78%\n",
      "Epoch [25/30], Train loss: 0.0063, Train accuracy: 100.00%, Valid loss: 0.0210, Valid accuracy: 74.27%\n",
      "Epoch [26/30], Train loss: 0.0097, Train accuracy: 100.00%, Valid loss: 0.0063, Valid accuracy: 75.44%\n",
      "Epoch [27/30], Train loss: 0.0043, Train accuracy: 100.00%, Valid loss: 0.0035, Valid accuracy: 73.68%\n",
      "Epoch [28/30], Train loss: 0.0031, Train accuracy: 100.00%, Valid loss: 0.0078, Valid accuracy: 76.61%\n",
      "Epoch [29/30], Train loss: 0.0057, Train accuracy: 100.00%, Valid loss: 0.0072, Valid accuracy: 76.02%\n",
      "Epoch [30/30], Train loss: 0.0016, Train accuracy: 100.00%, Valid loss: 0.0089, Valid accuracy: 76.61%\n"
     ]
    }
   ],
   "source": [
    "start_time = time.strftime(\"%m-%d-%YT%H-%M-%S\", time.localtime())\n",
    "print(f\"Start time: {start_time}.\")\n",
    "\n",
    "for epoch in range(0, epochs_count):\n",
    "    correct_train, total_train, error_train = 0, 0, 0\n",
    "    for idx, (images_train, labels_train) in enumerate(train_loader):\n",
    "        images_train, labels_train = images_train.to(device), labels_train.to(device)\n",
    "\n",
    "        outputs_train = model(images_train)\n",
    "        error_train = loss(outputs_train, labels_train)\n",
    "        train_loss_step_history.append(error_train.item())\n",
    "\n",
    "        optimizer.zero_grad()\n",
    "        error_train.backward()\n",
    "        optimizer.step()\n",
    "\n",
    "        total_train = labels_train.size(0)\n",
    "        _, predicted_train = torch.max(outputs_train.data, 1)\n",
    "        correct_train = (predicted_train == labels_train).sum().item()\n",
    "        train_accuracy_step_history.append(correct_train / total_train * 100)\n",
    "\n",
    "        correct_train += correct_train\n",
    "        error_train += error_train\n",
    "        total_train += total_train\n",
    "\n",
    "        #print('Epoch [{}/{}], Step [{}/{}], Loss: {:.4f}, Accuracy: {:.2f}%'.format(\n",
    "        #    epoch + 1,\n",
    "        #    epochs_count,\n",
    "        #    idx + 1,\n",
    "        #    count_batches,\n",
    "        #    error_train.item(),\n",
    "        #    train_accuracy_step_history[-1],\n",
    "        #))\n",
    "\n",
    "\n",
    "    correct_valid, total_valid, error_valid = 0, 0, 0\n",
    "    for idx, (images_valid, labels_valid) in enumerate(valid_loader):\n",
    "        images_valid, labels_valid = images_valid.to(device), labels_valid.to(device)\n",
    "        \n",
    "        outputs_valid = model(images_valid)\n",
    "        error_valid = loss(outputs_valid, labels_valid)\n",
    "\n",
    "        total_valid += labels_valid.size(0)\n",
    "        _, predicted_valid = torch.max(outputs_valid.data, 1)\n",
    "        correct_valid += (predicted_valid == labels_valid).sum().item()\n",
    "        error_valid += error_valid\n",
    "\n",
    "    valid_accuracy_epoch = correct_valid / total_valid * 100\n",
    "    train_accuracy_epoch = correct_train / total_train * 100\n",
    "    valid_loss_epoch = error_valid / total_valid\n",
    "    train_loss_epoch = error_train / total_train\n",
    "\n",
    "    valid_accuracy_epoch_history.append(valid_accuracy_epoch)\n",
    "    train_accuracy_epoch_history.append(train_accuracy_epoch)\n",
    "    valid_loss_epoch_history.append(valid_loss_epoch)\n",
    "    train_loss_epoch_history.append(train_loss_epoch)\n",
    "\n",
    "    flag = True\n",
    "    for accuracy in valid_accuracy_epoch_history:\n",
    "        if valid_accuracy_epoch_history[-1] < accuracy:\n",
    "            flag = False\n",
    "\n",
    "    if flag == True:\n",
    "        model_path = f\"models/lid/{start_time}\"\n",
    "        check_exists_path(model_path)\n",
    "\n",
    "        named_tuple = time.localtime()\n",
    "        time_string = time.strftime(\"%m-%d-%YT%H-%M-%S\", named_tuple) \n",
    "        torch.save(model.state_dict(), f\"{model_path}/CNNModel-date({time_string})-accuracy({valid_accuracy_epoch:.2f}).pth\")\n",
    "        print(\"Saved the updated model\")  \n",
    "\n",
    "\n",
    "    print('Epoch [{}/{}], Train loss: {:.4f}, Train accuracy: {:.2f}%, Valid loss: {:.4f}, Valid accuracy: {:.2f}%'.format(\n",
    "        epoch + 1, epochs_count,\n",
    "        train_loss_epoch,\n",
    "        train_accuracy_epoch,\n",
    "        valid_loss_epoch,\n",
    "        valid_accuracy_epoch,\n",
    "    ))\n",
    "    #print('Valid Error: {} %'.format((valid_loss_epoch)))\n",
    "    #print('Valid Accuracy: {} %'.format(valid_accuracy_epoch))\n",
    "    #print('Train Error: {} %'.format((train_loss_epoch)))\n",
    "    #print('Train Accuracy: {} %'.format((train_accuracy_epoch)))\n"
   ]
  },
  {
   "attachments": {},
   "cell_type": "markdown",
   "metadata": {},
   "source": [
    "# Построение графиков с метриками"
   ]
  },
  {
   "cell_type": "code",
   "execution_count": 36,
   "metadata": {},
   "outputs": [],
   "source": [
    "x = [i for i in range(1, epochs_count + 1)]"
   ]
  },
  {
   "cell_type": "code",
   "execution_count": 37,
   "metadata": {},
   "outputs": [],
   "source": [
    "train_loss_epoch_history = [tensor.item() for tensor in train_loss_epoch_history]\n",
    "valid_loss_epoch_history = [tensor.item() for tensor in valid_loss_epoch_history]"
   ]
  },
  {
   "cell_type": "code",
   "execution_count": 38,
   "metadata": {},
   "outputs": [
    {
     "ename": "ValueError",
     "evalue": "x and y must have same first dimension, but have shapes (30,) and (31,)",
     "output_type": "error",
     "traceback": [
      "\u001b[0;31m---------------------------------------------------------------------------\u001b[0m",
      "\u001b[0;31mValueError\u001b[0m                                Traceback (most recent call last)",
      "Cell \u001b[0;32mIn[38], line 1\u001b[0m\n\u001b[0;32m----> 1\u001b[0m plt\u001b[39m.\u001b[39;49mplot(x, train_accuracy_epoch_history, label\u001b[39m=\u001b[39;49m\u001b[39m\"\u001b[39;49m\u001b[39mTrain Accuracy, \u001b[39;49m\u001b[39m%\u001b[39;49m\u001b[39m\"\u001b[39;49m)\n\u001b[1;32m      2\u001b[0m plt\u001b[39m.\u001b[39mplot(x, valid_accuracy_epoch_history, label\u001b[39m=\u001b[39m\u001b[39m\"\u001b[39m\u001b[39mValid Accuracy, \u001b[39m\u001b[39m%\u001b[39m\u001b[39m\"\u001b[39m)\n\u001b[1;32m      3\u001b[0m plt\u001b[39m.\u001b[39mlegend()\n",
      "File \u001b[0;32m/mnt/e/Университет/Магистратура/Обработка речи/lid-stt/.venv/lib/python3.11/site-packages/matplotlib/pyplot.py:3575\u001b[0m, in \u001b[0;36mplot\u001b[0;34m(scalex, scaley, data, *args, **kwargs)\u001b[0m\n\u001b[1;32m   3567\u001b[0m \u001b[39m@_copy_docstring_and_deprecators\u001b[39m(Axes\u001b[39m.\u001b[39mplot)\n\u001b[1;32m   3568\u001b[0m \u001b[39mdef\u001b[39;00m \u001b[39mplot\u001b[39m(\n\u001b[1;32m   3569\u001b[0m     \u001b[39m*\u001b[39margs: \u001b[39mfloat\u001b[39m \u001b[39m|\u001b[39m ArrayLike \u001b[39m|\u001b[39m \u001b[39mstr\u001b[39m,\n\u001b[0;32m   (...)\u001b[0m\n\u001b[1;32m   3573\u001b[0m     \u001b[39m*\u001b[39m\u001b[39m*\u001b[39mkwargs,\n\u001b[1;32m   3574\u001b[0m ) \u001b[39m-\u001b[39m\u001b[39m>\u001b[39m \u001b[39mlist\u001b[39m[Line2D]:\n\u001b[0;32m-> 3575\u001b[0m     \u001b[39mreturn\u001b[39;00m gca()\u001b[39m.\u001b[39;49mplot(\n\u001b[1;32m   3576\u001b[0m         \u001b[39m*\u001b[39;49margs,\n\u001b[1;32m   3577\u001b[0m         scalex\u001b[39m=\u001b[39;49mscalex,\n\u001b[1;32m   3578\u001b[0m         scaley\u001b[39m=\u001b[39;49mscaley,\n\u001b[1;32m   3579\u001b[0m         \u001b[39m*\u001b[39;49m\u001b[39m*\u001b[39;49m({\u001b[39m\"\u001b[39;49m\u001b[39mdata\u001b[39;49m\u001b[39m\"\u001b[39;49m: data} \u001b[39mif\u001b[39;49;00m data \u001b[39mis\u001b[39;49;00m \u001b[39mnot\u001b[39;49;00m \u001b[39mNone\u001b[39;49;00m \u001b[39melse\u001b[39;49;00m {}),\n\u001b[1;32m   3580\u001b[0m         \u001b[39m*\u001b[39;49m\u001b[39m*\u001b[39;49mkwargs,\n\u001b[1;32m   3581\u001b[0m     )\n",
      "File \u001b[0;32m/mnt/e/Университет/Магистратура/Обработка речи/lid-stt/.venv/lib/python3.11/site-packages/matplotlib/axes/_axes.py:1721\u001b[0m, in \u001b[0;36mAxes.plot\u001b[0;34m(self, scalex, scaley, data, *args, **kwargs)\u001b[0m\n\u001b[1;32m   1478\u001b[0m \u001b[39m\u001b[39m\u001b[39m\"\"\"\u001b[39;00m\n\u001b[1;32m   1479\u001b[0m \u001b[39mPlot y versus x as lines and/or markers.\u001b[39;00m\n\u001b[1;32m   1480\u001b[0m \n\u001b[0;32m   (...)\u001b[0m\n\u001b[1;32m   1718\u001b[0m \u001b[39m(``'green'``) or hex strings (``'#008000'``).\u001b[39;00m\n\u001b[1;32m   1719\u001b[0m \u001b[39m\"\"\"\u001b[39;00m\n\u001b[1;32m   1720\u001b[0m kwargs \u001b[39m=\u001b[39m cbook\u001b[39m.\u001b[39mnormalize_kwargs(kwargs, mlines\u001b[39m.\u001b[39mLine2D)\n\u001b[0;32m-> 1721\u001b[0m lines \u001b[39m=\u001b[39m [\u001b[39m*\u001b[39m\u001b[39mself\u001b[39m\u001b[39m.\u001b[39m_get_lines(\u001b[39mself\u001b[39m, \u001b[39m*\u001b[39margs, data\u001b[39m=\u001b[39mdata, \u001b[39m*\u001b[39m\u001b[39m*\u001b[39mkwargs)]\n\u001b[1;32m   1722\u001b[0m \u001b[39mfor\u001b[39;00m line \u001b[39min\u001b[39;00m lines:\n\u001b[1;32m   1723\u001b[0m     \u001b[39mself\u001b[39m\u001b[39m.\u001b[39madd_line(line)\n",
      "File \u001b[0;32m/mnt/e/Университет/Магистратура/Обработка речи/lid-stt/.venv/lib/python3.11/site-packages/matplotlib/axes/_base.py:303\u001b[0m, in \u001b[0;36m_process_plot_var_args.__call__\u001b[0;34m(self, axes, data, *args, **kwargs)\u001b[0m\n\u001b[1;32m    301\u001b[0m     this \u001b[39m+\u001b[39m\u001b[39m=\u001b[39m args[\u001b[39m0\u001b[39m],\n\u001b[1;32m    302\u001b[0m     args \u001b[39m=\u001b[39m args[\u001b[39m1\u001b[39m:]\n\u001b[0;32m--> 303\u001b[0m \u001b[39myield from\u001b[39;00m \u001b[39mself\u001b[39;49m\u001b[39m.\u001b[39;49m_plot_args(\n\u001b[1;32m    304\u001b[0m     axes, this, kwargs, ambiguous_fmt_datakey\u001b[39m=\u001b[39;49mambiguous_fmt_datakey)\n",
      "File \u001b[0;32m/mnt/e/Университет/Магистратура/Обработка речи/lid-stt/.venv/lib/python3.11/site-packages/matplotlib/axes/_base.py:499\u001b[0m, in \u001b[0;36m_process_plot_var_args._plot_args\u001b[0;34m(self, axes, tup, kwargs, return_kwargs, ambiguous_fmt_datakey)\u001b[0m\n\u001b[1;32m    496\u001b[0m     axes\u001b[39m.\u001b[39myaxis\u001b[39m.\u001b[39mupdate_units(y)\n\u001b[1;32m    498\u001b[0m \u001b[39mif\u001b[39;00m x\u001b[39m.\u001b[39mshape[\u001b[39m0\u001b[39m] \u001b[39m!=\u001b[39m y\u001b[39m.\u001b[39mshape[\u001b[39m0\u001b[39m]:\n\u001b[0;32m--> 499\u001b[0m     \u001b[39mraise\u001b[39;00m \u001b[39mValueError\u001b[39;00m(\u001b[39mf\u001b[39m\u001b[39m\"\u001b[39m\u001b[39mx and y must have same first dimension, but \u001b[39m\u001b[39m\"\u001b[39m\n\u001b[1;32m    500\u001b[0m                      \u001b[39mf\u001b[39m\u001b[39m\"\u001b[39m\u001b[39mhave shapes \u001b[39m\u001b[39m{\u001b[39;00mx\u001b[39m.\u001b[39mshape\u001b[39m}\u001b[39;00m\u001b[39m and \u001b[39m\u001b[39m{\u001b[39;00my\u001b[39m.\u001b[39mshape\u001b[39m}\u001b[39;00m\u001b[39m\"\u001b[39m)\n\u001b[1;32m    501\u001b[0m \u001b[39mif\u001b[39;00m x\u001b[39m.\u001b[39mndim \u001b[39m>\u001b[39m \u001b[39m2\u001b[39m \u001b[39mor\u001b[39;00m y\u001b[39m.\u001b[39mndim \u001b[39m>\u001b[39m \u001b[39m2\u001b[39m:\n\u001b[1;32m    502\u001b[0m     \u001b[39mraise\u001b[39;00m \u001b[39mValueError\u001b[39;00m(\u001b[39mf\u001b[39m\u001b[39m\"\u001b[39m\u001b[39mx and y can be no greater than 2D, but have \u001b[39m\u001b[39m\"\u001b[39m\n\u001b[1;32m    503\u001b[0m                      \u001b[39mf\u001b[39m\u001b[39m\"\u001b[39m\u001b[39mshapes \u001b[39m\u001b[39m{\u001b[39;00mx\u001b[39m.\u001b[39mshape\u001b[39m}\u001b[39;00m\u001b[39m and \u001b[39m\u001b[39m{\u001b[39;00my\u001b[39m.\u001b[39mshape\u001b[39m}\u001b[39;00m\u001b[39m\"\u001b[39m)\n",
      "\u001b[0;31mValueError\u001b[0m: x and y must have same first dimension, but have shapes (30,) and (31,)"
     ]
    },
    {
     "data": {
      "image/png": "[encoded data removed]",
      "text/plain": [
       "<Figure size 640x480 with 1 Axes>"
      ]
     },
     "metadata": {},
     "output_type": "display_data"
    }
   ],
   "source": [
    "plt.plot(x, train_accuracy_epoch_history, label=\"Train Accuracy, %\")\n",
    "plt.plot(x, valid_accuracy_epoch_history, label=\"Valid Accuracy, %\")\n",
    "plt.legend()"
   ]
  },
  {
   "cell_type": "code",
   "execution_count": 31,
   "metadata": {},
   "outputs": [
    {
     "data": {
      "text/plain": [
       "<matplotlib.legend.Legend at 0x7f40d7d3b550>"
      ]
     },
     "execution_count": 31,
     "metadata": {},
     "output_type": "execute_result"
    },
    {
     "data": {
      "image/png": "[encoded data removed]",
      "text/plain": [
       "<Figure size 640x480 with 1 Axes>"
      ]
     },
     "metadata": {},
     "output_type": "display_data"
    }
   ],
   "source": [
    "plt.plot(x, train_loss_epoch_history, label=\"Train Loss\")\n",
    "plt.plot(x, valid_loss_epoch_history, label=\"Valid Loss\")\n",
    "plt.legend()"
   ]
  },
  {
   "attachments": {},
   "cell_type": "markdown",
   "metadata": {},
   "source": [
    "Из графиков видно, что после 15 эпохи улучшения предсказательной способности модели почти не происходит."
   ]
  },
  {
   "attachments": {},
   "cell_type": "markdown",
   "metadata": {},
   "source": [
    "# Проверка точности на тестовых данных"
   ]
  },
  {
   "attachments": {},
   "cell_type": "markdown",
   "metadata": {},
   "source": [
    "Загрузим модель, которая дала наилучший результат на валидационных данных и проверим результат на тестовых данных. Точность предсказания языка 72%"
   ]
  },
  {
   "cell_type": "code",
   "execution_count": 23,
   "metadata": {},
   "outputs": [
    {
     "name": "stdout",
     "output_type": "stream",
     "text": [
      "73.41040462427746\n"
     ]
    }
   ],
   "source": [
    "device = torch.device('cpu')\n",
    "model = CNNModel()\n",
    "model.load_state_dict(torch.load(\"models/lid/CNNModel-date(12-07-2023T01-53-17)-accuracy(78.95).pth\", map_location=device))\n",
    "\n",
    "\n",
    "correct_test, total_test, error_test = 0, 0, 0\n",
    "for i, (images_test, labels_test) in enumerate(test_loader):\n",
    "    outputs_test = model(images_test)\n",
    "    error_test = loss(outputs_test, labels_test)\n",
    "    _, predicted_test = torch.max(outputs_test.data, 1)\n",
    "    total_test += labels_test.size(0)\n",
    "    correct_test += (predicted_test == labels_test).sum().item()\n",
    "    error_test += error_test\n",
    "    \n",
    "test_accuracy = (correct_test / total_test) * 100\n",
    "print(test_accuracy)"
   ]
  }
 ],
 "metadata": {
  "kernelspec": {
   "display_name": "Python 3",
   "language": "python",
   "name": "python3"
  },
  "language_info": {
   "codemirror_mode": {
    "name": "ipython",
    "version": 3
   },
   "file_extension": ".py",
   "mimetype": "text/x-python",
   "name": "python",
   "nbconvert_exporter": "python",
   "pygments_lexer": "ipython3",
   "version": "3.11.4"
  }
 },
 "nbformat": 4,
 "nbformat_minor": 2
}
